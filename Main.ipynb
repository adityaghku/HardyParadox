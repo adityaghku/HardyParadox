{
 "cells": [
  {
   "cell_type": "code",
   "execution_count": 2,
   "metadata": {
    "id": "EUm0T3VVm07N"
   },
   "outputs": [],
   "source": [
    "import numpy as np\n",
    "from random import gauss\n",
    "import pandas as pd\n",
    "\n",
    "import scipy.optimize as sp\n",
    "import math\n",
    "\n",
    "import pandas as pd"
   ]
  },
  {
   "cell_type": "code",
   "execution_count": null,
   "metadata": {},
   "outputs": [],
   "source": [
    "# A21():\n",
    "#     []\n",
    "# #different projector products are 0\n",
    "# #they are normalised\n",
    "# #projector product is itself\n",
    "\n",
    "# A1 ={[1,0,0,0],[0,1,0,0]} #2 dimensions\n",
    "# A2 = {[a,b],[e,f],[]}"
   ]
  },
  {
   "cell_type": "code",
   "execution_count": 2,
   "metadata": {},
   "outputs": [],
   "source": [
    "def f(x):\n",
    "    return -1*(( (math.sin(x[0])**2) * (math.cos(x[0]))**2 * (math.cos(x[1]))**2 * (math.sin(x[1])**2) * \n",
    "             ((math.sin(x[1])**2) - (math.cos(x[1]))**2)**2)\n",
    "            /(((math.sin(x[1])**3)*math.sin(x[0]))**2 + ((math.cos(x[1])**3)*(math.cos(x[0])))**2))"
   ]
  },
  {
   "cell_type": "code",
   "execution_count": 3,
   "metadata": {},
   "outputs": [],
   "source": [
    "bnds = ((-1*math.pi, math.pi), (-1*math.pi, math.pi))\n",
    "x0 = [1,2]"
   ]
  },
  {
   "cell_type": "code",
   "execution_count": 13,
   "metadata": {},
   "outputs": [],
   "source": [
    "result = sp.minimize(f, x0, tol=1e-15, bounds = bnds) "
   ]
  },
  {
   "cell_type": "code",
   "execution_count": 14,
   "metadata": {},
   "outputs": [
    {
     "data": {
      "text/plain": [
       "      fun: -0.09016994374947422\n",
       " hess_inv: <2x2 LbfgsInvHessProduct with dtype=float64>\n",
       "      jac: array([1.38777879e-09, 2.77555758e-09])\n",
       "  message: 'CONVERGENCE: REL_REDUCTION_OF_F_<=_FACTR*EPSMCH'\n",
       "     nfev: 45\n",
       "      nit: 11\n",
       "     njev: 15\n",
       "   status: 0\n",
       "  success: True\n",
       "        x: array([-1.26437613,  2.70690031])"
      ]
     },
     "execution_count": 14,
     "metadata": {},
     "output_type": "execute_result"
    }
   ],
   "source": [
    "result"
   ]
  },
  {
   "cell_type": "code",
   "execution_count": null,
   "metadata": {},
   "outputs": [],
   "source": []
  },
  {
   "cell_type": "code",
   "execution_count": 5,
   "metadata": {},
   "outputs": [
    {
     "name": "stdout",
     "output_type": "stream",
     "text": [
      "0.09016994374947422\n"
     ]
    }
   ],
   "source": [
    "print(-1*result.fun)"
   ]
  },
  {
   "cell_type": "code",
   "execution_count": 5,
   "metadata": {},
   "outputs": [],
   "source": [
    "def innerproduct(x,y):\n",
    "\n",
    "    temp = 0\n",
    "\n",
    "    for i in range(len(x)):\n",
    "        temp+= x[i]*y[i]\n",
    "\n",
    "    return np.array(temp)\n",
    "  \n",
    "def tensorproduct(x,y):\n",
    "\n",
    "    temp = []\n",
    "\n",
    "    for i in range(len(x)):\n",
    "        for j in range(len(x)):\n",
    "            temp.append(x[i]*y[j])\n",
    "\n",
    "    return np.array(temp)\n",
    "  \n",
    "def outerproduct(x,y):\n",
    "\n",
    "    return np.outer(x,y)\n",
    "  \n",
    "def trace(mat):\n",
    "\n",
    "    return np.trace(mat)\n",
    "\n",
    "def make_rand_vector(dims):\n",
    "    vec = [gauss(0, 1) for i in range(dims**2)]\n",
    "    mag = sum(x**2 for x in vec) ** .5\n",
    "    return np.array([x/mag for x in vec]).reshape((2,2))\n",
    "\n",
    "def basis(e,d):\n",
    "    temp = np.zeros(d).astype(int)\n",
    "    temp[e] = 1\n",
    "    return np.array(temp)\n",
    "\n",
    "\n",
    "def kronecker_product(x,y):\n",
    "\n",
    "    return np.kron(x,y)"
   ]
  },
  {
   "cell_type": "code",
   "execution_count": 7,
   "metadata": {},
   "outputs": [],
   "source": [
    "# P(A2 < B1) = 0\n",
    "# P(B1 < A1) = 0\n",
    "# P(A1 < B2) = 0\n",
    "\n",
    "# P(A2 < B2) > 0\n",
    "\n",
    "# H is a dxd upper triangular matrix because U1,V1 projectors are identity hence \n",
    "\n",
    "# def Rho(d):\n",
    "#      return np.random.rand(d*d).reshape(d,d)\n",
    "\n",
    "# x = [rho,A2,B2]\n",
    "\n",
    "#A1=I, B1=I\n",
    "\n",
    "# def A11():\n",
    "    \n",
    "def A1(d):\n",
    "    temp = []\n",
    "    for i in range(d):\n",
    "        temp.append(outerproduct(basis(i,d),basis(i,d)))\n",
    "    return np.array(temp)\n",
    "\n",
    "\n",
    "def B1(d):\n",
    "    temp = []\n",
    "    for i in range(d):\n",
    "        temp.append(outerproduct(basis(i,d),basis(i,d)))\n",
    "    return np.array(temp)\n",
    "\n",
    "def Inequalities(d):\n",
    "    \n",
    "    ans = []\n",
    "\n",
    "    for i in range(1,d):\n",
    "        for j in range(i+1,d+1):\n",
    "            ans.append([i-1,j-1])\n",
    "    \n",
    "    return np.array(ans)\n",
    "\n",
    "def Projector(Matrix,state):\n",
    "    temp = outerproduct(state,state)\n",
    "    temp2 = np.matmul(Matrix, temp)\n",
    "    \n",
    "    return np.matmul(temp2,Matrix.transpose())\n",
    "\n",
    "def Probability(A,m,B,n,rho,d):\n",
    "    e1 = basis(m,d)\n",
    "    e2 = basis(n,d)\n",
    "    \n",
    "    A = A.reshape(d,d)\n",
    "    B = B.reshape(d,d)\n",
    "    \n",
    "    temp = kronecker_product(Projector(A,e1), Projector(B,e2))\n",
    "    \n",
    "    temp2 = temp.dot(outerproduct(rho,rho).transpose())\n",
    "    \n",
    "    return trace(temp2)\n",
    "\n",
    "#P(X<Y) = P(X=0,Y=1) for d=2\n",
    "# for d=3 (P(X=0,Y=1),P(X=0,Y=2)), P(X=1,Y=2)\n",
    "def Probability_Inequality(A,B,rho,d):\n",
    "    s = 0\n",
    "    \n",
    "    for (i,j) in Inequalities(d):\n",
    "        s += Probability(A,i,B,j,rho,d)\n",
    "    \n",
    "    return s\n",
    "\n",
    "def const1(x,d):\n",
    "    return Probability_Inequality(B1(d),A1(d),x[:d**2],d) #P(b1<a1) = 0\n",
    "\n",
    "def const2(x,d):\n",
    "    return Probability_Inequality(A1(d),x[2*d**2:],x[:d**2],d) #P(A1<B2) = 0\n",
    "\n",
    "def const3(x,d):\n",
    "    return Probability_Inequality(x[d**2:2*d**2],B1(d),x[:d**2],d) #P(A2<B1) = 0\n",
    "\n",
    "def const5(x,d):\n",
    "    return sum([a*b for a,b in zip(x[:d**2],x[:d**2])]) - 1 #h is normalised\n",
    "\n",
    "def const6(x,d):\n",
    "    return sum([a*b for a,b in zip(x[d**2:d**2+d],x[d**2:d**2+d])]) - 1 # #A2 is SU(d)\n",
    "\n",
    "def const7(x,d):\n",
    "    return sum([a*b for a,b in zip(x[2*d**2:2*d**2 +d],x[2*d**2:2*d**2 +d])]) - 1 #B2 is SU(d)\n",
    "\n",
    "def objective(x,d):\n",
    "    return -1*(Probability_Inequality(x[d**2:2*d**2],x[2*d**2:],x[:d**2],d)) #P(A2<B2)\n"
   ]
  },
  {
   "cell_type": "code",
   "execution_count": 8,
   "metadata": {},
   "outputs": [],
   "source": [
    "def main(d):\n",
    "    \n",
    "    x0 = np.random.rand(3*d*d)\n",
    "    \n",
    "    eq_constraints = [{'type': 'eq',\n",
    "                    'fun' : const1,\n",
    "                      \"args\" : (d,)},\n",
    "                      \n",
    "                 {'type': 'eq',\n",
    "                    'fun' : const2,\n",
    "                      \"args\" : (d,)},\n",
    "                      \n",
    "                 {'type': 'eq',\n",
    "                    'fun' : const3,\n",
    "                      \"args\" : (d,) },\n",
    "                \n",
    "                 {'type': 'eq',\n",
    "                     'fun' : const5,\n",
    "                      \"args\" : (d,) },\n",
    "                \n",
    "                 {'type': 'eq',\n",
    "                     'fun' : const6,\n",
    "                      \"args\" : (d,) },\n",
    "                \n",
    "                 {'type': 'eq',\n",
    "                     'fun' : const7,\n",
    "                      \"args\" : (d,) }\n",
    "                     ]\n",
    "    \n",
    "    res = sp.minimize(objective ,\n",
    "                      x0, method='SLSQP',\n",
    "               constraints = eq_constraints,\n",
    "                      tol = 1e-8, args = (d,),\n",
    "                bounds = [(0, 1) for i in range(3*d*d)])\n",
    "    \n",
    "    \n",
    "    return res"
   ]
  },
  {
   "cell_type": "code",
   "execution_count": 11,
   "metadata": {},
   "outputs": [
    {
     "name": "stdout",
     "output_type": "stream",
     "text": [
      "     fun: -4.406151384719322e-09\n",
      "     jac: array([-6.01039923e-09, -8.09550205e-11, -8.81230278e-09, -1.18694388e-10,\n",
      "       -1.61093361e-13, -0.00000000e+00, -1.32772596e-04,  0.00000000e+00,\n",
      "        0.00000000e+00, -8.81230278e-09,  0.00000000e+00, -1.11022302e-16])\n",
      " message: 'Singular matrix C in LSQ subproblem'\n",
      "    nfev: 611\n",
      "     nit: 46\n",
      "    njev: 46\n",
      "  status: 6\n",
      " success: False\n",
      "       x: array([1.19743178e-09, 1.21135684e-09, 1.00000000e+00, 1.05032644e-08,\n",
      "       4.52734529e-05, 1.00000000e+00, 6.63788474e-05, 3.50117776e-01,\n",
      "       2.96473503e-04, 1.00000000e+00, 4.97657793e-01, 1.34691682e-02])\n",
      "4.406151384719322e-09\n"
     ]
    }
   ],
   "source": [
    "result = main(2)\n",
    "\n",
    "print(result)\n",
    "print(-1*result.fun)\n",
    "# x = [H,A2,B2]"
   ]
  },
  {
   "cell_type": "code",
   "execution_count": null,
   "metadata": {},
   "outputs": [],
   "source": [
    "d_list = list(range(2,8))\n",
    "\n",
    "Hardy  = []\n",
    "\n",
    "for element in d_list:\n",
    "    print(element)\n",
    "    Hardy.append(main(element))\n",
    "    \n",
    "df = pd.DataFrame({\"D\": d_list, \"Hardy\": Hardy})\n",
    "df = df.set_index(\"D\")\n",
    "\n",
    "print(df)"
   ]
  },
  {
   "cell_type": "code",
   "execution_count": 44,
   "metadata": {},
   "outputs": [],
   "source": [
    "temp = []\n",
    "\n",
    "for i in d_list:\n",
    "    temp.append(-1*df[\"Hardy\"][i].fun)\n",
    "\n",
    "df[\"Optimal Value\"] = temp"
   ]
  },
  {
   "cell_type": "code",
   "execution_count": 47,
   "metadata": {},
   "outputs": [],
   "source": [
    "df[\"Entropy\"] = -1*np.log2(df[\"Optimal Value\"])"
   ]
  },
  {
   "cell_type": "code",
   "execution_count": 48,
   "metadata": {},
   "outputs": [
    {
     "name": "stdout",
     "output_type": "stream",
     "text": [
      "                                               Hardy  Optimal Value    Entropy\n",
      "D                                                                             \n",
      "2  {'x': [5.019125443272991e-09, 8.43698667262983...   2.697640e-17  55.041080\n",
      "3  {'x': [0.0, 5.888426848495118e-09, 2.053403024...   2.000000e+00  -1.000000\n",
      "4  {'x': [2.4240118675204514e-08, 9.5864543372393...   4.000001e+00  -2.000000\n",
      "5  {'x': [1.4245469488957776e-09, 7.9398003775805...   8.418835e+00  -3.073621\n",
      "6  {'x': [1.3083256269997522e-12, 1.2495112719151...   1.309420e+01  -3.710856\n",
      "7  {'x': [3.196924066567134e-07, 2.61148923479912...   1.967965e+01  -4.298633\n"
     ]
    }
   ],
   "source": [
    "print(df)"
   ]
  },
  {
   "cell_type": "code",
   "execution_count": null,
   "metadata": {},
   "outputs": [],
   "source": []
  },
  {
   "cell_type": "code",
   "execution_count": null,
   "metadata": {},
   "outputs": [],
   "source": [
    "# A1 = [00,11] = {[1,000],[0,001]}\n",
    "# B1 = [00,11]\n",
    "\n",
    "# A2 = [ab,a'b'] #conditons\n",
    "# B2 = [cd,c'd']\n",
    "\n",
    "# h = [h1,h2,h3,h4]\n",
    "\n",
    "# 3d^2 variables subject to some constraints\n",
    "\n",
    "# h = d^2 vector [h is forced to be upper triangular]\n",
    "# A2 = d vectors of size d\n",
    "# B2 = d vectors of size d\n",
    "\n",
    "# A1 = computational standard basis\n",
    "# B2 = computational standard basis"
   ]
  }
 ],
 "metadata": {
  "colab": {
   "collapsed_sections": [],
   "name": "Untitled4.ipynb",
   "provenance": []
  },
  "kernelspec": {
   "display_name": "3314",
   "language": "python",
   "name": "3314"
  },
  "language_info": {
   "codemirror_mode": {
    "name": "ipython",
    "version": 3
   },
   "file_extension": ".py",
   "mimetype": "text/x-python",
   "name": "python",
   "nbconvert_exporter": "python",
   "pygments_lexer": "ipython3",
   "version": "3.8.11"
  }
 },
 "nbformat": 4,
 "nbformat_minor": 1
}
